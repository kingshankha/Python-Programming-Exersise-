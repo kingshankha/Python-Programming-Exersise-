{
 "cells": [
  {
   "cell_type": "markdown",
   "metadata": {},
   "source": [
    "# Monk and Rotation\n",
    "Monk loves to preform different operations on arrays, and so being the principal of Hackerearth School, he assigned a task to his new student Mishki. Mishki will be provided with an integer array A of size N and an integer K , where she needs to rotate the array in the right direction by K steps and then print the resultant array. As she is new to the school, please help her to complete the task.\n",
    "\n",
    "# Input:\n",
    "The first line will consists of one integer T denoting the number of test cases.\n",
    "For each test case:\n",
    "1) The first line consists of two integers N and K, N being the number of elements in the array and K denotes the number of steps of rotation.\n",
    "2) The next line consists of N space separated integers , denoting the elements of the array A.\n",
    "Output:\n",
    "Print the required array."
   ]
  },
  {
   "cell_type": "markdown",
   "metadata": {},
   "source": [
    "# Solution"
   ]
  },
  {
   "cell_type": "code",
   "execution_count": null,
   "metadata": {},
   "outputs": [],
   "source": [
    "import sys\n",
    "T=int(input())\n",
    "if T>20:\n",
    "    sys.exit()\n",
    "for i in range(T):\n",
    "    N,K=map(int,input().split())\n",
    "    arr=list(map(int,input().split()))\n",
    "    if K>N:\n",
    "        K=K%N\n",
    "    \n",
    "    temp=[]\n",
    "    for i in range(1,K+1):\n",
    "        \n",
    "        temp.append(arr[-i])\n",
    "        \n",
    "    temp.reverse()\n",
    "    temp=temp+arr[0:(len(arr)-K)]\n",
    "\n",
    "    for i in temp:print(i,end=\" \")\n",
    "    print()"
   ]
  }
 ],
 "metadata": {
  "kernelspec": {
   "display_name": "Python 3",
   "language": "python",
   "name": "python3"
  },
  "language_info": {
   "codemirror_mode": {
    "name": "ipython",
    "version": 3
   },
   "file_extension": ".py",
   "mimetype": "text/x-python",
   "name": "python",
   "nbconvert_exporter": "python",
   "pygments_lexer": "ipython3",
   "version": "3.8.5"
  }
 },
 "nbformat": 4,
 "nbformat_minor": 4
}
